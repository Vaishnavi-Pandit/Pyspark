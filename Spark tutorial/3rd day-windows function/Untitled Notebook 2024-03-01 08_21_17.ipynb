{
 "cells": [
  {
   "cell_type": "code",
   "execution_count": 0,
   "metadata": {
    "application/vnd.databricks.v1+cell": {
     "cellMetadata": {
      "byteLimit": 2048000,
      "rowLimit": 10000
     },
     "inputWidgets": {},
     "nuid": "da033f92-6bb5-41c3-8132-e9cb96babafe",
     "showTitle": false,
     "title": ""
    }
   },
   "outputs": [
    {
     "output_type": "stream",
     "name": "stdout",
     "output_type": "stream",
     "text": [
      "+-----+------+---------+----+-----------+----+----+------+------+---+\n|empno| ename|      job| mgr|   hiredate| sal|comm|deptno|gender|age|\n+-----+------+---------+----+-----------+----+----+------+------+---+\n| 7369| SMITH|    CLERK|7902|17-Dec-1980| 800|  20|    10|     f| 22|\n| 7499| ALLEN| SALESMAN|7698|20-Feb-1981|1500| 300|    30|     f| 30|\n| 7521|  WARD| SALESMAN|7698|22-Feb-1981|1250| 500|    30|     m| 40|\n| 7521|  WARD| SALESMAN|7698|22-Feb-1981|1250| 500|    30|     f| 90|\n| 7566| JONES|  MANAGER|7839| 2-Apr-1981|2975|   0|    20|     m| 20|\n| 7654|MARTIN| SALESMAN|7698|28-Sep-1981|1150|1400|    30|     f| 50|\n| 7698| BLAKE|  MANAGER|7839| 1-May-1981|2850|   0|    30|     f| 28|\n| 7782| CLARK|  MANAGER|7839| 9-Jun-1981|2440|   0|    10|     m| 50|\n| 7788|  null|  ANALYST|7566|19-Apr-1987|3000|   0|    20|     f| 22|\n| 7789|  VENU|  ANALYST|7506|19-Apr-1989|3100|   0|    20|     f| 19|\n| 7839|  VENU|PRESIDENT|null|17-Nov-1981|5000|null|    10|     f| 89|\n| 7844|TURNER| SALESMAN|7698| 8-Sep-1981|1500|   0|    30|     m| 40|\n| 7845|TURNER| SALESMAN|7698| 8-Sep-1981|1500|   0|    30|     f| 40|\n| 7876| ADAMS|    CLERK|7788|23-May-1987|1100|   0|    20|     f| 23|\n+-----+------+---------+----+-----------+----+----+------+------+---+\n\n"
     ]
    }
   ],
   "source": [
    "df=spark.read.format(\"csv\").option(\"header\",\"true\").option(\"inferschema\",\"true\").load(\"/FileStore/tables/empmysql1.csv\")\n",
    "df.show()"
   ]
  },
  {
   "cell_type": "code",
   "execution_count": 0,
   "metadata": {
    "application/vnd.databricks.v1+cell": {
     "cellMetadata": {
      "byteLimit": 2048000,
      "rowLimit": 10000
     },
     "inputWidgets": {},
     "nuid": "c0e068d2-1749-48da-9e1a-d50ac423ce35",
     "showTitle": false,
     "title": ""
    }
   },
   "outputs": [
    {
     "output_type": "display_data",
     "data": {
      "text/html": [
       "<style scoped>\n",
       "  .table-result-container {\n",
       "    max-height: 300px;\n",
       "    overflow: auto;\n",
       "  }\n",
       "  table, th, td {\n",
       "    border: 1px solid black;\n",
       "    border-collapse: collapse;\n",
       "  }\n",
       "  th, td {\n",
       "    padding: 5px;\n",
       "  }\n",
       "  th {\n",
       "    text-align: left;\n",
       "  }\n",
       "</style><div class='table-result-container'><table class='table-result'><thead style='background-color: white'><tr><th>empno</th><th>ename</th><th>job</th><th>mgr</th><th>hiredate</th><th>sal</th><th>comm</th><th>deptno</th><th>gender</th><th>age</th><th>drank</th><th>rnk</th><th>rno</th></tr></thead><tbody><tr><td>7839</td><td>VENU</td><td>PRESIDENT</td><td>null</td><td>17-Nov-1981</td><td>5000</td><td>null</td><td>10</td><td>f</td><td>89</td><td>1</td><td>1</td><td>1</td></tr><tr><td>7789</td><td>VENU</td><td>ANALYST</td><td>7506</td><td>19-Apr-1989</td><td>3100</td><td>0</td><td>20</td><td>f</td><td>19</td><td>2</td><td>2</td><td>2</td></tr><tr><td>7788</td><td>null</td><td>ANALYST</td><td>7566</td><td>19-Apr-1987</td><td>3000</td><td>0</td><td>20</td><td>f</td><td>22</td><td>3</td><td>3</td><td>3</td></tr><tr><td>7566</td><td>JONES</td><td>MANAGER</td><td>7839</td><td>2-Apr-1981</td><td>2975</td><td>0</td><td>20</td><td>m</td><td>20</td><td>4</td><td>4</td><td>4</td></tr><tr><td>7698</td><td>BLAKE</td><td>MANAGER</td><td>7839</td><td>1-May-1981</td><td>2850</td><td>0</td><td>30</td><td>f</td><td>28</td><td>5</td><td>5</td><td>5</td></tr><tr><td>7782</td><td>CLARK</td><td>MANAGER</td><td>7839</td><td>9-Jun-1981</td><td>2440</td><td>0</td><td>10</td><td>m</td><td>50</td><td>6</td><td>6</td><td>6</td></tr><tr><td>7499</td><td>ALLEN</td><td>SALESMAN</td><td>7698</td><td>20-Feb-1981</td><td>1500</td><td>300</td><td>30</td><td>f</td><td>30</td><td>7</td><td>7</td><td>7</td></tr><tr><td>7844</td><td>TURNER</td><td>SALESMAN</td><td>7698</td><td>8-Sep-1981</td><td>1500</td><td>0</td><td>30</td><td>m</td><td>40</td><td>7</td><td>7</td><td>8</td></tr><tr><td>7845</td><td>TURNER</td><td>SALESMAN</td><td>7698</td><td>8-Sep-1981</td><td>1500</td><td>0</td><td>30</td><td>f</td><td>40</td><td>7</td><td>7</td><td>9</td></tr><tr><td>7521</td><td>WARD</td><td>SALESMAN</td><td>7698</td><td>22-Feb-1981</td><td>1250</td><td>500</td><td>30</td><td>m</td><td>40</td><td>8</td><td>10</td><td>10</td></tr><tr><td>7521</td><td>WARD</td><td>SALESMAN</td><td>7698</td><td>22-Feb-1981</td><td>1250</td><td>500</td><td>30</td><td>f</td><td>90</td><td>8</td><td>10</td><td>11</td></tr><tr><td>7654</td><td>MARTIN</td><td>SALESMAN</td><td>7698</td><td>28-Sep-1981</td><td>1150</td><td>1400</td><td>30</td><td>f</td><td>50</td><td>9</td><td>12</td><td>12</td></tr><tr><td>7876</td><td>ADAMS</td><td>CLERK</td><td>7788</td><td>23-May-1987</td><td>1100</td><td>0</td><td>20</td><td>f</td><td>23</td><td>10</td><td>13</td><td>13</td></tr><tr><td>7369</td><td>SMITH</td><td>CLERK</td><td>7902</td><td>17-Dec-1980</td><td>800</td><td>20</td><td>10</td><td>f</td><td>22</td><td>11</td><td>14</td><td>14</td></tr></tbody></table></div>"
      ]
     },
     "metadata": {
      "application/vnd.databricks.v1+output": {
       "addedWidgets": {},
       "aggData": [],
       "aggError": "",
       "aggOverflow": false,
       "aggSchema": [],
       "aggSeriesLimitReached": false,
       "aggType": "",
       "arguments": {},
       "columnCustomDisplayInfos": {},
       "data": [
        [
         7839,
         "VENU",
         "PRESIDENT",
         null,
         "17-Nov-1981",
         5000,
         null,
         10,
         "f",
         89,
         1,
         1,
         1
        ],
        [
         7789,
         "VENU",
         "ANALYST",
         7506,
         "19-Apr-1989",
         3100,
         0,
         20,
         "f",
         19,
         2,
         2,
         2
        ],
        [
         7788,
         null,
         "ANALYST",
         7566,
         "19-Apr-1987",
         3000,
         0,
         20,
         "f",
         22,
         3,
         3,
         3
        ],
        [
         7566,
         "JONES",
         "MANAGER",
         7839,
         "2-Apr-1981",
         2975,
         0,
         20,
         "m",
         20,
         4,
         4,
         4
        ],
        [
         7698,
         "BLAKE",
         "MANAGER",
         7839,
         "1-May-1981",
         2850,
         0,
         30,
         "f",
         28,
         5,
         5,
         5
        ],
        [
         7782,
         "CLARK",
         "MANAGER",
         7839,
         "9-Jun-1981",
         2440,
         0,
         10,
         "m",
         50,
         6,
         6,
         6
        ],
        [
         7499,
         "ALLEN",
         "SALESMAN",
         7698,
         "20-Feb-1981",
         1500,
         300,
         30,
         "f",
         30,
         7,
         7,
         7
        ],
        [
         7844,
         "TURNER",
         "SALESMAN",
         7698,
         "8-Sep-1981",
         1500,
         0,
         30,
         "m",
         40,
         7,
         7,
         8
        ],
        [
         7845,
         "TURNER",
         "SALESMAN",
         7698,
         "8-Sep-1981",
         1500,
         0,
         30,
         "f",
         40,
         7,
         7,
         9
        ],
        [
         7521,
         "WARD",
         "SALESMAN",
         7698,
         "22-Feb-1981",
         1250,
         500,
         30,
         "m",
         40,
         8,
         10,
         10
        ],
        [
         7521,
         "WARD",
         "SALESMAN",
         7698,
         "22-Feb-1981",
         1250,
         500,
         30,
         "f",
         90,
         8,
         10,
         11
        ],
        [
         7654,
         "MARTIN",
         "SALESMAN",
         7698,
         "28-Sep-1981",
         1150,
         1400,
         30,
         "f",
         50,
         9,
         12,
         12
        ],
        [
         7876,
         "ADAMS",
         "CLERK",
         7788,
         "23-May-1987",
         1100,
         0,
         20,
         "f",
         23,
         10,
         13,
         13
        ],
        [
         7369,
         "SMITH",
         "CLERK",
         7902,
         "17-Dec-1980",
         800,
         20,
         10,
         "f",
         22,
         11,
         14,
         14
        ]
       ],
       "datasetInfos": [],
       "dbfsResultPath": null,
       "isJsonSchema": true,
       "metadata": {},
       "overflow": false,
       "plotOptions": {
        "customPlotOptions": {},
        "displayType": "table",
        "pivotAggregation": null,
        "pivotColumns": null,
        "xColumns": null,
        "yColumns": null
       },
       "removedWidgets": [],
       "schema": [
        {
         "metadata": "{}",
         "name": "empno",
         "type": "\"integer\""
        },
        {
         "metadata": "{}",
         "name": "ename",
         "type": "\"string\""
        },
        {
         "metadata": "{}",
         "name": "job",
         "type": "\"string\""
        },
        {
         "metadata": "{}",
         "name": "mgr",
         "type": "\"integer\""
        },
        {
         "metadata": "{}",
         "name": "hiredate",
         "type": "\"string\""
        },
        {
         "metadata": "{}",
         "name": "sal",
         "type": "\"integer\""
        },
        {
         "metadata": "{}",
         "name": "comm",
         "type": "\"integer\""
        },
        {
         "metadata": "{}",
         "name": "deptno",
         "type": "\"integer\""
        },
        {
         "metadata": "{}",
         "name": "gender",
         "type": "\"string\""
        },
        {
         "metadata": "{}",
         "name": "age",
         "type": "\"integer\""
        },
        {
         "metadata": "{}",
         "name": "drank",
         "type": "\"integer\""
        },
        {
         "metadata": "{}",
         "name": "rnk",
         "type": "\"integer\""
        },
        {
         "metadata": "{}",
         "name": "rno",
         "type": "\"integer\""
        }
       ],
       "type": "table"
      }
     },
     "output_type": "display_data"
    }
   ],
   "source": [
    "df.createOrReplaceTempView(\"tab\")\n",
    "res=spark.sql(\"select *,dense_rank()over(order by sal desc) drank from tab\")\n",
    "from pyspark.sql.window import *\n",
    "from pyspark.sql.functions import *\n",
    "win= Window.orderBy(col(\"sal\").desc())\n",
    "ndf=df.withColumn(\"drank\",dense_rank().over(win)).withColumn(\"rnk\",rank().over(win)).withColumn(\"rno\",row_number().over(win))\n",
    "display(ndf) "
   ]
  },
  {
   "cell_type": "code",
   "execution_count": 0,
   "metadata": {
    "application/vnd.databricks.v1+cell": {
     "cellMetadata": {
      "byteLimit": 2048000,
      "rowLimit": 10000
     },
     "inputWidgets": {},
     "nuid": "81527573-0bf7-4549-8118-dd021b09f8b5",
     "showTitle": false,
     "title": ""
    }
   },
   "outputs": [
    {
     "output_type": "display_data",
     "data": {
      "text/html": [
       "<style scoped>\n",
       "  .table-result-container {\n",
       "    max-height: 300px;\n",
       "    overflow: auto;\n",
       "  }\n",
       "  table, th, td {\n",
       "    border: 1px solid black;\n",
       "    border-collapse: collapse;\n",
       "  }\n",
       "  th, td {\n",
       "    padding: 5px;\n",
       "  }\n",
       "  th {\n",
       "    text-align: left;\n",
       "  }\n",
       "</style><div class='table-result-container'><table class='table-result'><thead style='background-color: white'><tr><th>empno</th><th>ename</th><th>job</th><th>mgr</th><th>hiredate</th><th>sal</th><th>comm</th><th>deptno</th><th>gender</th><th>age</th><th>drank</th><th>rnk</th><th>rno</th><th>ntile</th><th>per</th></tr></thead><tbody><tr><td>7839</td><td>VENU</td><td>PRESIDENT</td><td>null</td><td>17-Nov-1981</td><td>5000</td><td>null</td><td>10</td><td>f</td><td>89</td><td>1</td><td>1</td><td>1</td><td>1</td><td>0.0</td></tr><tr><td>7789</td><td>VENU</td><td>ANALYST</td><td>7506</td><td>19-Apr-1989</td><td>3100</td><td>0</td><td>20</td><td>f</td><td>19</td><td>2</td><td>2</td><td>2</td><td>1</td><td>0.07692307692307693</td></tr><tr><td>7788</td><td>null</td><td>ANALYST</td><td>7566</td><td>19-Apr-1987</td><td>3000</td><td>0</td><td>20</td><td>f</td><td>22</td><td>3</td><td>3</td><td>3</td><td>1</td><td>0.15384615384615385</td></tr><tr><td>7566</td><td>JONES</td><td>MANAGER</td><td>7839</td><td>2-Apr-1981</td><td>2975</td><td>0</td><td>20</td><td>m</td><td>20</td><td>4</td><td>4</td><td>4</td><td>1</td><td>0.23076923076923078</td></tr><tr><td>7698</td><td>BLAKE</td><td>MANAGER</td><td>7839</td><td>1-May-1981</td><td>2850</td><td>0</td><td>30</td><td>f</td><td>28</td><td>5</td><td>5</td><td>5</td><td>1</td><td>0.3076923076923077</td></tr><tr><td>7782</td><td>CLARK</td><td>MANAGER</td><td>7839</td><td>9-Jun-1981</td><td>2440</td><td>0</td><td>10</td><td>m</td><td>50</td><td>6</td><td>6</td><td>6</td><td>2</td><td>0.38461538461538464</td></tr><tr><td>7499</td><td>ALLEN</td><td>SALESMAN</td><td>7698</td><td>20-Feb-1981</td><td>1500</td><td>300</td><td>30</td><td>f</td><td>30</td><td>7</td><td>7</td><td>7</td><td>2</td><td>0.46153846153846156</td></tr><tr><td>7844</td><td>TURNER</td><td>SALESMAN</td><td>7698</td><td>8-Sep-1981</td><td>1500</td><td>0</td><td>30</td><td>m</td><td>40</td><td>7</td><td>7</td><td>8</td><td>2</td><td>0.46153846153846156</td></tr><tr><td>7845</td><td>TURNER</td><td>SALESMAN</td><td>7698</td><td>8-Sep-1981</td><td>1500</td><td>0</td><td>30</td><td>f</td><td>40</td><td>7</td><td>7</td><td>9</td><td>2</td><td>0.46153846153846156</td></tr><tr><td>7521</td><td>WARD</td><td>SALESMAN</td><td>7698</td><td>22-Feb-1981</td><td>1250</td><td>500</td><td>30</td><td>m</td><td>40</td><td>8</td><td>10</td><td>10</td><td>2</td><td>0.6923076923076923</td></tr><tr><td>7521</td><td>WARD</td><td>SALESMAN</td><td>7698</td><td>22-Feb-1981</td><td>1250</td><td>500</td><td>30</td><td>f</td><td>90</td><td>8</td><td>10</td><td>11</td><td>3</td><td>0.6923076923076923</td></tr><tr><td>7654</td><td>MARTIN</td><td>SALESMAN</td><td>7698</td><td>28-Sep-1981</td><td>1150</td><td>1400</td><td>30</td><td>f</td><td>50</td><td>9</td><td>12</td><td>12</td><td>3</td><td>0.8461538461538461</td></tr><tr><td>7876</td><td>ADAMS</td><td>CLERK</td><td>7788</td><td>23-May-1987</td><td>1100</td><td>0</td><td>20</td><td>f</td><td>23</td><td>10</td><td>13</td><td>13</td><td>3</td><td>0.9230769230769231</td></tr><tr><td>7369</td><td>SMITH</td><td>CLERK</td><td>7902</td><td>17-Dec-1980</td><td>800</td><td>20</td><td>10</td><td>f</td><td>22</td><td>11</td><td>14</td><td>14</td><td>3</td><td>1.0</td></tr></tbody></table></div>"
      ]
     },
     "metadata": {
      "application/vnd.databricks.v1+output": {
       "addedWidgets": {},
       "aggData": [],
       "aggError": "",
       "aggOverflow": false,
       "aggSchema": [],
       "aggSeriesLimitReached": false,
       "aggType": "",
       "arguments": {},
       "columnCustomDisplayInfos": {},
       "data": [
        [
         7839,
         "VENU",
         "PRESIDENT",
         null,
         "17-Nov-1981",
         5000,
         null,
         10,
         "f",
         89,
         1,
         1,
         1,
         1,
         0.0
        ],
        [
         7789,
         "VENU",
         "ANALYST",
         7506,
         "19-Apr-1989",
         3100,
         0,
         20,
         "f",
         19,
         2,
         2,
         2,
         1,
         0.07692307692307693
        ],
        [
         7788,
         null,
         "ANALYST",
         7566,
         "19-Apr-1987",
         3000,
         0,
         20,
         "f",
         22,
         3,
         3,
         3,
         1,
         0.15384615384615385
        ],
        [
         7566,
         "JONES",
         "MANAGER",
         7839,
         "2-Apr-1981",
         2975,
         0,
         20,
         "m",
         20,
         4,
         4,
         4,
         1,
         0.23076923076923078
        ],
        [
         7698,
         "BLAKE",
         "MANAGER",
         7839,
         "1-May-1981",
         2850,
         0,
         30,
         "f",
         28,
         5,
         5,
         5,
         1,
         0.3076923076923077
        ],
        [
         7782,
         "CLARK",
         "MANAGER",
         7839,
         "9-Jun-1981",
         2440,
         0,
         10,
         "m",
         50,
         6,
         6,
         6,
         2,
         0.38461538461538464
        ],
        [
         7499,
         "ALLEN",
         "SALESMAN",
         7698,
         "20-Feb-1981",
         1500,
         300,
         30,
         "f",
         30,
         7,
         7,
         7,
         2,
         0.46153846153846156
        ],
        [
         7844,
         "TURNER",
         "SALESMAN",
         7698,
         "8-Sep-1981",
         1500,
         0,
         30,
         "m",
         40,
         7,
         7,
         8,
         2,
         0.46153846153846156
        ],
        [
         7845,
         "TURNER",
         "SALESMAN",
         7698,
         "8-Sep-1981",
         1500,
         0,
         30,
         "f",
         40,
         7,
         7,
         9,
         2,
         0.46153846153846156
        ],
        [
         7521,
         "WARD",
         "SALESMAN",
         7698,
         "22-Feb-1981",
         1250,
         500,
         30,
         "m",
         40,
         8,
         10,
         10,
         2,
         0.6923076923076923
        ],
        [
         7521,
         "WARD",
         "SALESMAN",
         7698,
         "22-Feb-1981",
         1250,
         500,
         30,
         "f",
         90,
         8,
         10,
         11,
         3,
         0.6923076923076923
        ],
        [
         7654,
         "MARTIN",
         "SALESMAN",
         7698,
         "28-Sep-1981",
         1150,
         1400,
         30,
         "f",
         50,
         9,
         12,
         12,
         3,
         0.8461538461538461
        ],
        [
         7876,
         "ADAMS",
         "CLERK",
         7788,
         "23-May-1987",
         1100,
         0,
         20,
         "f",
         23,
         10,
         13,
         13,
         3,
         0.9230769230769231
        ],
        [
         7369,
         "SMITH",
         "CLERK",
         7902,
         "17-Dec-1980",
         800,
         20,
         10,
         "f",
         22,
         11,
         14,
         14,
         3,
         1.0
        ]
       ],
       "datasetInfos": [],
       "dbfsResultPath": null,
       "isJsonSchema": true,
       "metadata": {},
       "overflow": false,
       "plotOptions": {
        "customPlotOptions": {},
        "displayType": "table",
        "pivotAggregation": null,
        "pivotColumns": null,
        "xColumns": null,
        "yColumns": null
       },
       "removedWidgets": [],
       "schema": [
        {
         "metadata": "{}",
         "name": "empno",
         "type": "\"integer\""
        },
        {
         "metadata": "{}",
         "name": "ename",
         "type": "\"string\""
        },
        {
         "metadata": "{}",
         "name": "job",
         "type": "\"string\""
        },
        {
         "metadata": "{}",
         "name": "mgr",
         "type": "\"integer\""
        },
        {
         "metadata": "{}",
         "name": "hiredate",
         "type": "\"string\""
        },
        {
         "metadata": "{}",
         "name": "sal",
         "type": "\"integer\""
        },
        {
         "metadata": "{}",
         "name": "comm",
         "type": "\"integer\""
        },
        {
         "metadata": "{}",
         "name": "deptno",
         "type": "\"integer\""
        },
        {
         "metadata": "{}",
         "name": "gender",
         "type": "\"string\""
        },
        {
         "metadata": "{}",
         "name": "age",
         "type": "\"integer\""
        },
        {
         "metadata": "{}",
         "name": "drank",
         "type": "\"integer\""
        },
        {
         "metadata": "{}",
         "name": "rnk",
         "type": "\"integer\""
        },
        {
         "metadata": "{}",
         "name": "rno",
         "type": "\"integer\""
        },
        {
         "metadata": "{}",
         "name": "ntile",
         "type": "\"integer\""
        },
        {
         "metadata": "{}",
         "name": "per",
         "type": "\"double\""
        }
       ],
       "type": "table"
      }
     },
     "output_type": "display_data"
    }
   ],
   "source": [
    "#ntile is used for grading system or distinction type of system \n",
    "#percentage rank is used to give rank between 0 and 1\n",
    "ndf1=ndf.withColumn(\"ntile\",ntile(3).over(win)).withColumn(\"per\",percent_rank().over(win))\n",
    "display(ndf1)"
   ]
  }
 ],
 "metadata": {
  "application/vnd.databricks.v1+notebook": {
   "dashboards": [],
   "language": "python",
   "notebookMetadata": {
    "pythonIndentUnit": 4
   },
   "notebookName": "Untitled Notebook 2024-03-01 08:21:17",
   "widgets": {}
  }
 },
 "nbformat": 4,
 "nbformat_minor": 0
}
