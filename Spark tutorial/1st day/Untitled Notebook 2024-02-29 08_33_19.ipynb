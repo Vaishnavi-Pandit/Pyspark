{
 "cells": [
  {
   "cell_type": "code",
   "execution_count": 0,
   "metadata": {
    "application/vnd.databricks.v1+cell": {
     "cellMetadata": {
      "byteLimit": 2048000,
      "rowLimit": 10000
     },
     "inputWidgets": {},
     "nuid": "9c577daf-cde0-49c6-9704-69e71211d9d5",
     "showTitle": false,
     "title": ""
    }
   },
   "outputs": [
    {
     "output_type": "stream",
     "name": "stdout",
     "output_type": "stream",
     "text": [
      "+------+----------+------+\n|  name|        dt|amount|\n+------+----------+------+\n|  venu|2021-01-10|  1000|\n|  venu|2021-03-11|  5000|\n|   anu|2021-12-12|  7000|\n|  venu|2021-11-18|  6000|\n|venkat|2021-10-10|  8000|\n|venkat|2021-09-20|  2000|\n|  venu|2021-10-30|  7000|\n|   anu|2021-08-10|  2000|\n|  sita|2020-07-10|  6000|\n|  venu|2021-05-19|  2000|\n|  sita|2021-06-10|  5000|\n|  venu|2021-04-21|  2000|\n|venkat|2021-03-01|  9000|\n|  venu|2020-02-27|  2000|\n|  venu|2021-02-27|  2000|\n|   anu|2021-03-22|  3000|\n|venkat|2021-02-21|  5000|\n+------+----------+------+\n\n"
     ]
    }
   ],
   "source": [
    "path=\"/FileStore/tables/donations.csv\"\n",
    "df=spark.read.format(\"csv\").option(\"header\",\"true\").option(\"inferschema\",\"true\").load(path)\n",
    "df.show()"
   ]
  },
  {
   "cell_type": "code",
   "execution_count": 0,
   "metadata": {
    "application/vnd.databricks.v1+cell": {
     "cellMetadata": {
      "byteLimit": 2048000,
      "rowLimit": 10000
     },
     "inputWidgets": {},
     "nuid": "863891ab-3360-4c85-90df-6cac3a76e1e9",
     "showTitle": false,
     "title": ""
    }
   },
   "outputs": [
    {
     "output_type": "stream",
     "name": "stdout",
     "output_type": "stream",
     "text": [
      "+------+----------+------+----------+\n|  name|        dt|amount|     today|\n+------+----------+------+----------+\n|  venu|2021-01-10|  1000|2024-02-29|\n|  venu|2021-03-11|  5000|2024-02-29|\n|   anu|2021-12-12|  7000|2024-02-29|\n|  venu|2021-11-18|  6000|2024-02-29|\n|venkat|2021-10-10|  8000|2024-02-29|\n|venkat|2021-09-20|  2000|2024-02-29|\n|  venu|2021-10-30|  7000|2024-02-29|\n|   anu|2021-08-10|  2000|2024-02-29|\n|  sita|2020-07-10|  6000|2024-02-29|\n|  venu|2021-05-19|  2000|2024-02-29|\n|  sita|2021-06-10|  5000|2024-02-29|\n|  venu|2021-04-21|  2000|2024-02-29|\n|venkat|2021-03-01|  9000|2024-02-29|\n|  venu|2020-02-27|  2000|2024-02-29|\n|  venu|2021-02-27|  2000|2024-02-29|\n|   anu|2021-03-22|  3000|2024-02-29|\n|venkat|2021-02-21|  5000|2024-02-29|\n+------+----------+------+----------+\n\n"
     ]
    }
   ],
   "source": [
    "from pyspark.sql.functions import *\n",
    "spark.conf.set(\"spark.sql.session.timezone\",\"CSI\")\n",
    "ndf=df.withColumn(\"today\",current_date())\n",
    "\n",
    "ndf.show()"
   ]
  },
  {
   "cell_type": "code",
   "execution_count": 0,
   "metadata": {
    "application/vnd.databricks.v1+cell": {
     "cellMetadata": {
      "byteLimit": 2048000,
      "rowLimit": 10000
     },
     "inputWidgets": {},
     "nuid": "6b8f7074-eefd-4334-b717-cb30b9e24bfa",
     "showTitle": false,
     "title": ""
    }
   },
   "outputs": [
    {
     "output_type": "display_data",
     "data": {
      "text/html": [
       "<style scoped>\n",
       "  .table-result-container {\n",
       "    max-height: 300px;\n",
       "    overflow: auto;\n",
       "  }\n",
       "  table, th, td {\n",
       "    border: 1px solid black;\n",
       "    border-collapse: collapse;\n",
       "  }\n",
       "  th, td {\n",
       "    padding: 5px;\n",
       "  }\n",
       "  th {\n",
       "    text-align: left;\n",
       "  }\n",
       "</style><div class='table-result-container'><table class='table-result'><thead style='background-color: white'><tr><th>name</th><th>dt</th><th>amount</th><th>today</th><th>ts</th><th>dtdiff</th><th>lastday</th><th>dtadd</th><th>dtsub</th><th>addmn</th><th>dayofyear</th><th>dayofmonth</th><th>dayofweeek</th><th>monthsbetween</th><th>nextday</th><th>qrt</th><th>dttrunc</th></tr></thead><tbody><tr><td>venu</td><td>2021-01-10</td><td>1000</td><td>2024-02-29</td><td>2024-02-29T03:53:31.266+0000</td><td>1145</td><td>2021-01-31</td><td>2021-04-20</td><td>2020-10-02</td><td>2021-03-10</td><td>10</td><td>10</td><td>1</td><td>37.61290323</td><td>2021-01-15</td><td>1</td><td>2021-01-01T00:00:00.000+0000</td></tr><tr><td>venu</td><td>2021-03-11</td><td>5000</td><td>2024-02-29</td><td>2024-02-29T03:53:31.266+0000</td><td>1085</td><td>2021-03-31</td><td>2021-06-19</td><td>2020-12-01</td><td>2021-05-11</td><td>70</td><td>11</td><td>5</td><td>35.58064516</td><td>2021-03-12</td><td>1</td><td>2021-01-01T00:00:00.000+0000</td></tr><tr><td>anu</td><td>2021-12-12</td><td>7000</td><td>2024-02-29</td><td>2024-02-29T03:53:31.266+0000</td><td>809</td><td>2021-12-31</td><td>2022-03-22</td><td>2021-09-03</td><td>2022-02-12</td><td>346</td><td>12</td><td>1</td><td>26.5483871</td><td>2021-12-17</td><td>4</td><td>2021-01-01T00:00:00.000+0000</td></tr><tr><td>venu</td><td>2021-11-18</td><td>6000</td><td>2024-02-29</td><td>2024-02-29T03:53:31.266+0000</td><td>833</td><td>2021-11-30</td><td>2022-02-26</td><td>2021-08-10</td><td>2022-01-18</td><td>322</td><td>18</td><td>5</td><td>27.35483871</td><td>2021-11-19</td><td>4</td><td>2021-01-01T00:00:00.000+0000</td></tr><tr><td>venkat</td><td>2021-10-10</td><td>8000</td><td>2024-02-29</td><td>2024-02-29T03:53:31.266+0000</td><td>872</td><td>2021-10-31</td><td>2022-01-18</td><td>2021-07-02</td><td>2021-12-10</td><td>283</td><td>10</td><td>1</td><td>28.61290323</td><td>2021-10-15</td><td>4</td><td>2021-01-01T00:00:00.000+0000</td></tr><tr><td>venkat</td><td>2021-09-20</td><td>2000</td><td>2024-02-29</td><td>2024-02-29T03:53:31.266+0000</td><td>892</td><td>2021-09-30</td><td>2021-12-29</td><td>2021-06-12</td><td>2021-11-20</td><td>263</td><td>20</td><td>2</td><td>29.29032258</td><td>2021-09-24</td><td>3</td><td>2021-01-01T00:00:00.000+0000</td></tr><tr><td>venu</td><td>2021-10-30</td><td>7000</td><td>2024-02-29</td><td>2024-02-29T03:53:31.266+0000</td><td>852</td><td>2021-10-31</td><td>2022-02-07</td><td>2021-07-22</td><td>2021-12-30</td><td>303</td><td>30</td><td>7</td><td>27.96774194</td><td>2021-11-05</td><td>4</td><td>2021-01-01T00:00:00.000+0000</td></tr><tr><td>anu</td><td>2021-08-10</td><td>2000</td><td>2024-02-29</td><td>2024-02-29T03:53:31.266+0000</td><td>933</td><td>2021-08-31</td><td>2021-11-18</td><td>2021-05-02</td><td>2021-10-10</td><td>222</td><td>10</td><td>3</td><td>30.61290323</td><td>2021-08-13</td><td>3</td><td>2021-01-01T00:00:00.000+0000</td></tr><tr><td>sita</td><td>2020-07-10</td><td>6000</td><td>2024-02-29</td><td>2024-02-29T03:53:31.266+0000</td><td>1329</td><td>2020-07-31</td><td>2020-10-18</td><td>2020-04-01</td><td>2020-09-10</td><td>192</td><td>10</td><td>6</td><td>43.61290323</td><td>2020-07-17</td><td>3</td><td>2020-01-01T00:00:00.000+0000</td></tr><tr><td>venu</td><td>2021-05-19</td><td>2000</td><td>2024-02-29</td><td>2024-02-29T03:53:31.266+0000</td><td>1016</td><td>2021-05-31</td><td>2021-08-27</td><td>2021-02-08</td><td>2021-07-19</td><td>139</td><td>19</td><td>4</td><td>33.32258065</td><td>2021-05-21</td><td>2</td><td>2021-01-01T00:00:00.000+0000</td></tr><tr><td>sita</td><td>2021-06-10</td><td>5000</td><td>2024-02-29</td><td>2024-02-29T03:53:31.266+0000</td><td>994</td><td>2021-06-30</td><td>2021-09-18</td><td>2021-03-02</td><td>2021-08-10</td><td>161</td><td>10</td><td>5</td><td>32.61290323</td><td>2021-06-11</td><td>2</td><td>2021-01-01T00:00:00.000+0000</td></tr><tr><td>venu</td><td>2021-04-21</td><td>2000</td><td>2024-02-29</td><td>2024-02-29T03:53:31.266+0000</td><td>1044</td><td>2021-04-30</td><td>2021-07-30</td><td>2021-01-11</td><td>2021-06-21</td><td>111</td><td>21</td><td>4</td><td>34.25806452</td><td>2021-04-23</td><td>2</td><td>2021-01-01T00:00:00.000+0000</td></tr><tr><td>venkat</td><td>2021-03-01</td><td>9000</td><td>2024-02-29</td><td>2024-02-29T03:53:31.266+0000</td><td>1095</td><td>2021-03-31</td><td>2021-06-09</td><td>2020-11-21</td><td>2021-05-01</td><td>60</td><td>1</td><td>2</td><td>35.90322581</td><td>2021-03-05</td><td>1</td><td>2021-01-01T00:00:00.000+0000</td></tr><tr><td>venu</td><td>2020-02-27</td><td>2000</td><td>2024-02-29</td><td>2024-02-29T03:53:31.266+0000</td><td>1463</td><td>2020-02-29</td><td>2020-06-06</td><td>2019-11-19</td><td>2020-04-27</td><td>58</td><td>27</td><td>5</td><td>48.06451613</td><td>2020-02-28</td><td>1</td><td>2020-01-01T00:00:00.000+0000</td></tr><tr><td>venu</td><td>2021-02-27</td><td>2000</td><td>2024-02-29</td><td>2024-02-29T03:53:31.266+0000</td><td>1097</td><td>2021-02-28</td><td>2021-06-07</td><td>2020-11-19</td><td>2021-04-27</td><td>58</td><td>27</td><td>7</td><td>36.06451613</td><td>2021-03-05</td><td>1</td><td>2021-01-01T00:00:00.000+0000</td></tr><tr><td>anu</td><td>2021-03-22</td><td>3000</td><td>2024-02-29</td><td>2024-02-29T03:53:31.266+0000</td><td>1074</td><td>2021-03-31</td><td>2021-06-30</td><td>2020-12-12</td><td>2021-05-22</td><td>81</td><td>22</td><td>2</td><td>35.22580645</td><td>2021-03-26</td><td>1</td><td>2021-01-01T00:00:00.000+0000</td></tr><tr><td>venkat</td><td>2021-02-21</td><td>5000</td><td>2024-02-29</td><td>2024-02-29T03:53:31.266+0000</td><td>1103</td><td>2021-02-28</td><td>2021-06-01</td><td>2020-11-13</td><td>2021-04-21</td><td>52</td><td>21</td><td>1</td><td>36.25806452</td><td>2021-02-26</td><td>1</td><td>2021-01-01T00:00:00.000+0000</td></tr></tbody></table></div>"
      ]
     },
     "metadata": {
      "application/vnd.databricks.v1+output": {
       "addedWidgets": {},
       "aggData": [],
       "aggError": "",
       "aggOverflow": false,
       "aggSchema": [],
       "aggSeriesLimitReached": false,
       "aggType": "",
       "arguments": {},
       "columnCustomDisplayInfos": {},
       "data": [
        [
         "venu",
         "2021-01-10",
         1000,
         "2024-02-29",
         "2024-02-29T03:53:31.266+0000",
         1145,
         "2021-01-31",
         "2021-04-20",
         "2020-10-02",
         "2021-03-10",
         10,
         10,
         1,
         37.61290323,
         "2021-01-15",
         1,
         "2021-01-01T00:00:00.000+0000"
        ],
        [
         "venu",
         "2021-03-11",
         5000,
         "2024-02-29",
         "2024-02-29T03:53:31.266+0000",
         1085,
         "2021-03-31",
         "2021-06-19",
         "2020-12-01",
         "2021-05-11",
         70,
         11,
         5,
         35.58064516,
         "2021-03-12",
         1,
         "2021-01-01T00:00:00.000+0000"
        ],
        [
         "anu",
         "2021-12-12",
         7000,
         "2024-02-29",
         "2024-02-29T03:53:31.266+0000",
         809,
         "2021-12-31",
         "2022-03-22",
         "2021-09-03",
         "2022-02-12",
         346,
         12,
         1,
         26.5483871,
         "2021-12-17",
         4,
         "2021-01-01T00:00:00.000+0000"
        ],
        [
         "venu",
         "2021-11-18",
         6000,
         "2024-02-29",
         "2024-02-29T03:53:31.266+0000",
         833,
         "2021-11-30",
         "2022-02-26",
         "2021-08-10",
         "2022-01-18",
         322,
         18,
         5,
         27.35483871,
         "2021-11-19",
         4,
         "2021-01-01T00:00:00.000+0000"
        ],
        [
         "venkat",
         "2021-10-10",
         8000,
         "2024-02-29",
         "2024-02-29T03:53:31.266+0000",
         872,
         "2021-10-31",
         "2022-01-18",
         "2021-07-02",
         "2021-12-10",
         283,
         10,
         1,
         28.61290323,
         "2021-10-15",
         4,
         "2021-01-01T00:00:00.000+0000"
        ],
        [
         "venkat",
         "2021-09-20",
         2000,
         "2024-02-29",
         "2024-02-29T03:53:31.266+0000",
         892,
         "2021-09-30",
         "2021-12-29",
         "2021-06-12",
         "2021-11-20",
         263,
         20,
         2,
         29.29032258,
         "2021-09-24",
         3,
         "2021-01-01T00:00:00.000+0000"
        ],
        [
         "venu",
         "2021-10-30",
         7000,
         "2024-02-29",
         "2024-02-29T03:53:31.266+0000",
         852,
         "2021-10-31",
         "2022-02-07",
         "2021-07-22",
         "2021-12-30",
         303,
         30,
         7,
         27.96774194,
         "2021-11-05",
         4,
         "2021-01-01T00:00:00.000+0000"
        ],
        [
         "anu",
         "2021-08-10",
         2000,
         "2024-02-29",
         "2024-02-29T03:53:31.266+0000",
         933,
         "2021-08-31",
         "2021-11-18",
         "2021-05-02",
         "2021-10-10",
         222,
         10,
         3,
         30.61290323,
         "2021-08-13",
         3,
         "2021-01-01T00:00:00.000+0000"
        ],
        [
         "sita",
         "2020-07-10",
         6000,
         "2024-02-29",
         "2024-02-29T03:53:31.266+0000",
         1329,
         "2020-07-31",
         "2020-10-18",
         "2020-04-01",
         "2020-09-10",
         192,
         10,
         6,
         43.61290323,
         "2020-07-17",
         3,
         "2020-01-01T00:00:00.000+0000"
        ],
        [
         "venu",
         "2021-05-19",
         2000,
         "2024-02-29",
         "2024-02-29T03:53:31.266+0000",
         1016,
         "2021-05-31",
         "2021-08-27",
         "2021-02-08",
         "2021-07-19",
         139,
         19,
         4,
         33.32258065,
         "2021-05-21",
         2,
         "2021-01-01T00:00:00.000+0000"
        ],
        [
         "sita",
         "2021-06-10",
         5000,
         "2024-02-29",
         "2024-02-29T03:53:31.266+0000",
         994,
         "2021-06-30",
         "2021-09-18",
         "2021-03-02",
         "2021-08-10",
         161,
         10,
         5,
         32.61290323,
         "2021-06-11",
         2,
         "2021-01-01T00:00:00.000+0000"
        ],
        [
         "venu",
         "2021-04-21",
         2000,
         "2024-02-29",
         "2024-02-29T03:53:31.266+0000",
         1044,
         "2021-04-30",
         "2021-07-30",
         "2021-01-11",
         "2021-06-21",
         111,
         21,
         4,
         34.25806452,
         "2021-04-23",
         2,
         "2021-01-01T00:00:00.000+0000"
        ],
        [
         "venkat",
         "2021-03-01",
         9000,
         "2024-02-29",
         "2024-02-29T03:53:31.266+0000",
         1095,
         "2021-03-31",
         "2021-06-09",
         "2020-11-21",
         "2021-05-01",
         60,
         1,
         2,
         35.90322581,
         "2021-03-05",
         1,
         "2021-01-01T00:00:00.000+0000"
        ],
        [
         "venu",
         "2020-02-27",
         2000,
         "2024-02-29",
         "2024-02-29T03:53:31.266+0000",
         1463,
         "2020-02-29",
         "2020-06-06",
         "2019-11-19",
         "2020-04-27",
         58,
         27,
         5,
         48.06451613,
         "2020-02-28",
         1,
         "2020-01-01T00:00:00.000+0000"
        ],
        [
         "venu",
         "2021-02-27",
         2000,
         "2024-02-29",
         "2024-02-29T03:53:31.266+0000",
         1097,
         "2021-02-28",
         "2021-06-07",
         "2020-11-19",
         "2021-04-27",
         58,
         27,
         7,
         36.06451613,
         "2021-03-05",
         1,
         "2021-01-01T00:00:00.000+0000"
        ],
        [
         "anu",
         "2021-03-22",
         3000,
         "2024-02-29",
         "2024-02-29T03:53:31.266+0000",
         1074,
         "2021-03-31",
         "2021-06-30",
         "2020-12-12",
         "2021-05-22",
         81,
         22,
         2,
         35.22580645,
         "2021-03-26",
         1,
         "2021-01-01T00:00:00.000+0000"
        ],
        [
         "venkat",
         "2021-02-21",
         5000,
         "2024-02-29",
         "2024-02-29T03:53:31.266+0000",
         1103,
         "2021-02-28",
         "2021-06-01",
         "2020-11-13",
         "2021-04-21",
         52,
         21,
         1,
         36.25806452,
         "2021-02-26",
         1,
         "2021-01-01T00:00:00.000+0000"
        ]
       ],
       "datasetInfos": [],
       "dbfsResultPath": null,
       "isJsonSchema": true,
       "metadata": {},
       "overflow": false,
       "plotOptions": {
        "customPlotOptions": {},
        "displayType": "table",
        "pivotAggregation": null,
        "pivotColumns": null,
        "xColumns": null,
        "yColumns": null
       },
       "removedWidgets": [],
       "schema": [
        {
         "metadata": "{}",
         "name": "name",
         "type": "\"string\""
        },
        {
         "metadata": "{\"__detected_date_formats\":\"d-M-yyyy\"}",
         "name": "dt",
         "type": "\"date\""
        },
        {
         "metadata": "{}",
         "name": "amount",
         "type": "\"integer\""
        },
        {
         "metadata": "{}",
         "name": "today",
         "type": "\"date\""
        },
        {
         "metadata": "{}",
         "name": "ts",
         "type": "\"timestamp\""
        },
        {
         "metadata": "{}",
         "name": "dtdiff",
         "type": "\"integer\""
        },
        {
         "metadata": "{}",
         "name": "lastday",
         "type": "\"date\""
        },
        {
         "metadata": "{}",
         "name": "dtadd",
         "type": "\"date\""
        },
        {
         "metadata": "{}",
         "name": "dtsub",
         "type": "\"date\""
        },
        {
         "metadata": "{}",
         "name": "addmn",
         "type": "\"date\""
        },
        {
         "metadata": "{}",
         "name": "dayofyear",
         "type": "\"integer\""
        },
        {
         "metadata": "{}",
         "name": "dayofmonth",
         "type": "\"integer\""
        },
        {
         "metadata": "{}",
         "name": "dayofweeek",
         "type": "\"integer\""
        },
        {
         "metadata": "{}",
         "name": "monthsbetween",
         "type": "\"double\""
        },
        {
         "metadata": "{}",
         "name": "nextday",
         "type": "\"date\""
        },
        {
         "metadata": "{}",
         "name": "qrt",
         "type": "\"integer\""
        },
        {
         "metadata": "{}",
         "name": "dttrunc",
         "type": "\"timestamp\""
        }
       ],
       "type": "table"
      }
     },
     "output_type": "display_data"
    }
   ],
   "source": [
    "ndf=df.withColumn(\"today\",current_date())\\\n",
    ".withColumn(\"ts\",current_timestamp())\\\n",
    "    .withColumn(\"dtdiff\",datediff(col(\"today\"),col(\"dt\")))\\\n",
    "        .withColumn(\"lastday\",last_day(col(\"dt\")))\\\n",
    "            .withColumn(\"dtadd\",date_add(col(\"dt\"),100))\\\n",
    "                .withColumn(\"dtsub\",date_add(col(\"dt\"),-100))\\\n",
    "                    .withColumn(\"addmn\",add_months(col(\"dt\"),2))\\\n",
    "                        .withColumn(\"dayofyear\",dayofyear(\"dt\"))\\\n",
    "                            .withColumn(\"dayofmonth\",dayofmonth(\"dt\"))\\\n",
    "                                .withColumn(\"dayofweeek\",dayofweek(\"dt\"))\\\n",
    "                                    .withColumn(\"monthsbetween\",months_between(col(\"today\"),col(\"dt\")))\\\n",
    "                                        .withColumn(\"nextday\",next_day(col(\"dt\"),\"fri\")).withColumn(\"qrt\",quarter(col(\"dt\")))\\\n",
    "                                            .withColumn(\"dttrunc\",date_trunc(\"year\",col(\"dt\")))\n",
    "display(ndf)"
   ]
  },
  {
   "cell_type": "code",
   "execution_count": 0,
   "metadata": {
    "application/vnd.databricks.v1+cell": {
     "cellMetadata": {},
     "inputWidgets": {},
     "nuid": "e49226bf-ec87-4289-a8a0-b762bc7cb31c",
     "showTitle": false,
     "title": ""
    }
   },
   "outputs": [],
   "source": []
  }
 ],
 "metadata": {
  "application/vnd.databricks.v1+notebook": {
   "dashboards": [],
   "language": "python",
   "notebookMetadata": {
    "pythonIndentUnit": 4
   },
   "notebookName": "Untitled Notebook 2024-02-29 08:33:19",
   "widgets": {}
  }
 },
 "nbformat": 4,
 "nbformat_minor": 0
}
